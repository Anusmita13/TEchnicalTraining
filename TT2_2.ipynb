{
  "nbformat": 4,
  "nbformat_minor": 0,
  "metadata": {
    "colab": {
      "provenance": []
    },
    "kernelspec": {
      "name": "python3",
      "display_name": "Python 3"
    },
    "language_info": {
      "name": "python"
    }
  },
  "cells": [
    {
      "cell_type": "code",
      "execution_count": 1,
      "metadata": {
        "colab": {
          "base_uri": "https://localhost:8080/"
        },
        "id": "hhgfHG1G7M7p",
        "outputId": "0b1fb5a9-2d53-4bc1-dde9-a02c7c4dc56b"
      },
      "outputs": [
        {
          "output_type": "stream",
          "name": "stdout",
          "text": [
            "Selected Boxes: [10, 20, 30]\n",
            "Total Weight: 60\n"
          ]
        }
      ],
      "source": [
        "def deliver_boxes(boxes, max_boxes, max_weight):\n",
        "    boxes.sort()\n",
        "    selected_boxes = []\n",
        "    total_weight = 0\n",
        "\n",
        "    for box in boxes:\n",
        "        if len(selected_boxes) < max_boxes and total_weight + box <= max_weight:\n",
        "            selected_boxes.append(box)\n",
        "            total_weight += box\n",
        "        else:\n",
        "            break\n",
        "\n",
        "    return selected_boxes, total_weight\n",
        "\n",
        "boxes = [10, 20, 30, 40, 50]\n",
        "max_boxes = 3\n",
        "max_weight = 70\n",
        "\n",
        "selected_boxes, total_weight = deliver_boxes(boxes, max_boxes, max_weight)\n",
        "\n",
        "print(\"Selected Boxes:\", selected_boxes)\n",
        "print(\"Total Weight:\", total_weight)\n"
      ]
    }
  ]
}