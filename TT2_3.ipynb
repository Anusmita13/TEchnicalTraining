{
  "nbformat": 4,
  "nbformat_minor": 0,
  "metadata": {
    "colab": {
      "provenance": []
    },
    "kernelspec": {
      "name": "python3",
      "display_name": "Python 3"
    },
    "language_info": {
      "name": "python"
    }
  },
  "cells": [
    {
      "cell_type": "code",
      "execution_count": 2,
      "metadata": {
        "colab": {
          "base_uri": "https://localhost:8080/"
        },
        "id": "pxeoVOKtAinO",
        "outputId": "bc2ee735-9ad9-466a-fe3e-920be801c435"
      },
      "outputs": [
        {
          "output_type": "stream",
          "name": "stdout",
          "text": [
            "6 -> 1 -> 3 -> 2 -> 4\n"
          ]
        }
      ],
      "source": [
        "class Node:\n",
        "    def __init__(self, val, prev=None, next=None, child=None):\n",
        "        self.val = val\n",
        "        self.prev = prev\n",
        "        self.next = next\n",
        "        self.child = child\n",
        "\n",
        "def flatten(head):\n",
        "    if not head:\n",
        "        return None\n",
        "\n",
        "    pseudo_head = Node(0)\n",
        "    pseudo_head.next = head\n",
        "    prev = pseudo_head\n",
        "\n",
        "    stack = []\n",
        "    stack.append(head)\n",
        "\n",
        "    while stack:\n",
        "        curr = stack.pop()\n",
        "\n",
        "        prev.next = curr\n",
        "        curr.prev = prev\n",
        "\n",
        "        if curr.next:\n",
        "            stack.append(curr.next)\n",
        "\n",
        "        if curr.child:\n",
        "            stack.append(curr.child)\n",
        "            curr.child = None\n",
        "\n",
        "        prev = curr\n",
        "\n",
        "    pseudo_head.next.prev = None\n",
        "    return pseudo_head.next\n",
        "\n",
        "def print_list(head):\n",
        "    nodes = []\n",
        "    while head:\n",
        "        nodes.append(str(head.val))\n",
        "        head = head.next\n",
        "    print(\" -> \".join(nodes))\n",
        "\n",
        "head = Node(6)\n",
        "head.next = Node(1, prev=head)\n",
        "head.next.next = Node(4, prev=head.next)\n",
        "head.next.child = Node(3)\n",
        "head.next.child.next = Node(2, prev=head.next.child)\n",
        "\n",
        "flattened_head = flatten(head)\n",
        "print_list(flattened_head)\n"
      ]
    }
  ]
}