{
  "nbformat": 4,
  "nbformat_minor": 0,
  "metadata": {
    "colab": {
      "provenance": []
    },
    "kernelspec": {
      "name": "python3",
      "display_name": "Python 3"
    },
    "language_info": {
      "name": "python"
    }
  },
  "cells": [
    {
      "cell_type": "code",
      "execution_count": 2,
      "metadata": {
        "colab": {
          "base_uri": "https://localhost:8080/"
        },
        "id": "CkOsXfow7poS",
        "outputId": "0c806836-7560-47ad-9770-3d67103e6378"
      },
      "outputs": [
        {
          "output_type": "stream",
          "name": "stdout",
          "text": [
            "The winner is friend number: 3\n"
          ]
        }
      ],
      "source": [
        "def find_winner(n, k):\n",
        "    friends = list(range(1, n + 1))\n",
        "    index = 0\n",
        "\n",
        "    while len(friends) > 1:\n",
        "        index = (index + k - 1) % len(friends)\n",
        "        friends.pop(index)\n",
        "\n",
        "    return friends[0]\n",
        "\n",
        "n = 5\n",
        "k = 2\n",
        "\n",
        "winner = find_winner(n, k)\n",
        "\n",
        "print(\"The winner is friend number:\", winner)\n"
      ]
    }
  ]
}